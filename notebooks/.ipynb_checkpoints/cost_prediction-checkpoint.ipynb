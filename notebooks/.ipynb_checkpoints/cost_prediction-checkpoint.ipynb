{
 "cells": [
  {
   "cell_type": "code",
   "execution_count": 3,
   "id": "bbb6c74f-8f23-458d-88d3-8d59870f2b4e",
   "metadata": {},
   "outputs": [
    {
     "name": "stdout",
     "output_type": "stream",
     "text": [
      "pandas is installed and working\n"
     ]
    }
   ],
   "source": [
    "import pandas\n",
    "print (\"pandas is installed and working\")"
   ]
  },
  {
   "cell_type": "code",
   "execution_count": 19,
   "id": "4f3a39f8-dff2-4338-9218-6d18213d71b3",
   "metadata": {},
   "outputs": [],
   "source": [
    "import pandas as pd\n",
    "import numpy as np"
   ]
  },
  {
   "cell_type": "code",
   "execution_count": 20,
   "id": "b39f87bb-ad73-4fab-86a0-8c9428a24717",
   "metadata": {},
   "outputs": [],
   "source": [
    "df = pd.read_csv('../data/business_expenses.csv')"
   ]
  },
  {
   "cell_type": "code",
   "execution_count": 21,
   "id": "99223e9d-f118-4937-8dc0-e2b0b96509ad",
   "metadata": {},
   "outputs": [],
   "source": [
    "df.columns = df.columns.str.strip()"
   ]
  },
  {
   "cell_type": "code",
   "execution_count": 24,
   "id": "e7569a10-1132-44a8-8f7a-7446deb918b5",
   "metadata": {},
   "outputs": [
    {
     "name": "stdout",
     "output_type": "stream",
     "text": [
      "Non-numeric in Units Sold:\n",
      " 0     1618.50 \n",
      "1     1321.00 \n",
      "2     2178.00 \n",
      "3      888.00 \n",
      "4     2470.00 \n",
      "Name: Units Sold, dtype: object \n",
      "\n",
      "Non-numeric in Manufacturing Price:\n",
      " 0     $3.00 \n",
      "1     $3.00 \n",
      "2     $3.00 \n",
      "3     $3.00 \n",
      "4     $3.00 \n",
      "Name: Manufacturing Price, dtype: object \n",
      "\n",
      "Non-numeric in Sale Price:\n",
      " 0     $20.00 \n",
      "1     $20.00 \n",
      "2     $15.00 \n",
      "3     $15.00 \n",
      "4     $15.00 \n",
      "Name: Sale Price, dtype: object \n",
      "\n",
      "Non-numeric in Gross Sales:\n",
      " 0     $32,370.00 \n",
      "1     $26,420.00 \n",
      "2     $32,670.00 \n",
      "3     $13,320.00 \n",
      "4     $37,050.00 \n",
      "Name: Gross Sales, dtype: object \n",
      "\n",
      "Non-numeric in Discounts:\n",
      " 0     $-   \n",
      "1     $-   \n",
      "2     $-   \n",
      "3     $-   \n",
      "4     $-   \n",
      "Name: Discounts, dtype: object \n",
      "\n",
      "Non-numeric in Sales:\n",
      " 0     $32,370.00 \n",
      "1     $26,420.00 \n",
      "2     $32,670.00 \n",
      "3     $13,320.00 \n",
      "4     $37,050.00 \n",
      "Name: Sales, dtype: object \n",
      "\n",
      "Non-numeric in COGS:\n",
      " 0     $16,185.00 \n",
      "1     $13,210.00 \n",
      "2     $21,780.00 \n",
      "3      $8,880.00 \n",
      "4     $24,700.00 \n",
      "Name: COGS, dtype: object \n",
      "\n",
      "Non-numeric in Profit:\n",
      " 0     $16,185.00 \n",
      "1     $13,210.00 \n",
      "2     $10,890.00 \n",
      "3      $4,440.00 \n",
      "4     $12,350.00 \n",
      "Name: Profit, dtype: object \n",
      "\n",
      "Columns: ['Segment', 'Country', 'Product', 'Discount Band', 'Units Sold', 'Manufacturing Price', 'Sale Price', 'Gross Sales', 'Discounts', 'Sales', 'COGS', 'Profit', 'Date', 'Month Number', 'Month Name', 'Year']\n",
      "      Segment  Country      Product Discount Band Units Sold  \\\n",
      "0  Government   Canada   Carretera          None    1618.50    \n",
      "1  Government  Germany   Carretera          None    1321.00    \n",
      "2   Midmarket   France   Carretera          None    2178.00    \n",
      "3   Midmarket  Germany   Carretera          None     888.00    \n",
      "4   Midmarket   Mexico   Carretera          None    2470.00    \n",
      "\n",
      "  Manufacturing Price Sale Price   Gross Sales Discounts         Sales  \\\n",
      "0              $3.00     $20.00    $32,370.00      $-      $32,370.00    \n",
      "1              $3.00     $20.00    $26,420.00      $-      $26,420.00    \n",
      "2              $3.00     $15.00    $32,670.00      $-      $32,670.00    \n",
      "3              $3.00     $15.00    $13,320.00      $-      $13,320.00    \n",
      "4              $3.00     $15.00    $37,050.00      $-      $37,050.00    \n",
      "\n",
      "           COGS        Profit        Date  Month Number Month Name  Year  \n",
      "0   $16,185.00    $16,185.00   01/01/2014             1   January   2014  \n",
      "1   $13,210.00    $13,210.00   01/01/2014             1   January   2014  \n",
      "2   $21,780.00    $10,890.00   01/06/2014             6      June   2014  \n",
      "3    $8,880.00     $4,440.00   01/06/2014             6      June   2014  \n",
      "4   $24,700.00    $12,350.00   01/06/2014             6      June   2014  \n"
     ]
    }
   ],
   "source": [
    "# Check non-numeric values in numerical columns\n",
    "numerical_cols = ['Units Sold', 'Manufacturing Price', 'Sale Price', 'Gross Sales', 'Discounts', 'Sales', 'COGS', 'Profit']\n",
    "for col in numerical_cols:\n",
    "    non_numeric = df[col][df[col].str.contains(r'[^\\d\\.\\-]', na=False)]\n",
    "    print(f\"Non-numeric in {col}:\\n\", non_numeric.head(), \"\\n\")\n",
    "\n",
    "# Verify raw data\n",
    "print(\"Columns:\", df.columns.tolist())\n",
    "print(df.head())"
   ]
  },
  {
   "cell_type": "code",
   "execution_count": 25,
   "id": "bb512df2-2a23-4eb0-b656-3aedf54aa6b2",
   "metadata": {},
   "outputs": [
    {
     "name": "stdout",
     "output_type": "stream",
     "text": [
      "Data Types: Segment                 object\n",
      "Country                 object\n",
      "Product                 object\n",
      "Discount Band           object\n",
      "Units Sold             float64\n",
      "Manufacturing Price    float64\n",
      "Sale Price             float64\n",
      "Gross Sales            float64\n",
      "Discounts              float64\n",
      "Sales                  float64\n",
      "COGS                   float64\n",
      "Profit                 float64\n",
      "Date                    object\n",
      "Month Number             int64\n",
      "Month Name              object\n",
      "Year                     int64\n",
      "dtype: object\n",
      "Missing Values: Segment                0\n",
      "Country                0\n",
      "Product                0\n",
      "Discount Band          0\n",
      "Units Sold             0\n",
      "Manufacturing Price    0\n",
      "Sale Price             0\n",
      "Gross Sales            0\n",
      "Discounts              0\n",
      "Sales                  0\n",
      "COGS                   0\n",
      "Profit                 0\n",
      "Date                   0\n",
      "Month Number           0\n",
      "Month Name             0\n",
      "Year                   0\n",
      "dtype: int64\n",
      "Discounts Sample: 0    14227.586198\n",
      "1    14227.586198\n",
      "2    14227.586198\n",
      "3    14227.586198\n",
      "4    14227.586198\n",
      "Name: Discounts, dtype: float64\n",
      "      Segment  Country      Product Discount Band  Units Sold  \\\n",
      "0  Government   Canada   Carretera          None       1618.5   \n",
      "1  Government  Germany   Carretera          None       1321.0   \n",
      "2   Midmarket   France   Carretera          None       2178.0   \n",
      "3   Midmarket  Germany   Carretera          None        888.0   \n",
      "4   Midmarket   Mexico   Carretera          None       2470.0   \n",
      "\n",
      "   Manufacturing Price  Sale Price  Gross Sales     Discounts    Sales  \\\n",
      "0                  3.0        20.0      32370.0  14227.586198  32370.0   \n",
      "1                  3.0        20.0      26420.0  14227.586198  26420.0   \n",
      "2                  3.0        15.0      32670.0  14227.586198  32670.0   \n",
      "3                  3.0        15.0      13320.0  14227.586198  13320.0   \n",
      "4                  3.0        15.0      37050.0  14227.586198  37050.0   \n",
      "\n",
      "      COGS   Profit        Date  Month Number Month Name  Year  \n",
      "0  16185.0  16185.0  01/01/2014             1   January   2014  \n",
      "1  13210.0  13210.0  01/01/2014             1   January   2014  \n",
      "2  21780.0  10890.0  01/06/2014             6      June   2014  \n",
      "3   8880.0   4440.0  01/06/2014             6      June   2014  \n",
      "4  24700.0  12350.0  01/06/2014             6      June   2014  \n"
     ]
    }
   ],
   "source": [
    "# Convert numerical columns to float\n",
    "for col in numerical_cols:\n",
    "    # Remove $, commas, and replace '-' with '0'\n",
    "    df[col] = df[col].replace(r'[\\$,]', '', regex=True).replace('-', '0')\n",
    "    # Convert to numeric, coerce errors to NaN\n",
    "    df[col] = pd.to_numeric(df[col], errors='coerce')\n",
    "    # Fill NaN with column mean\n",
    "    df[col] = df[col].fillna(df[col].mean())\n",
    "\n",
    "# Verify\n",
    "print(\"Data Types:\", df.dtypes)\n",
    "print(\"Missing Values:\", df.isnull().sum())\n",
    "print(\"Discounts Sample:\", df['Discounts'].head())\n",
    "print(df.head())"
   ]
  },
  {
   "cell_type": "code",
   "execution_count": null,
   "id": "f87a48e6-b907-400e-b8fc-8713c629ca6d",
   "metadata": {},
   "outputs": [],
   "source": []
  },
  {
   "cell_type": "markdown",
   "id": "be54bc4f-fa60-44c0-b54f-e5ef4e45dc7a",
   "metadata": {},
   "source": [
    "**Clean and convert the “numeric” columns**"
   ]
  },
  {
   "cell_type": "code",
   "execution_count": 27,
   "id": "c54181f0-76bf-4243-ac1e-a3c42b6e493f",
   "metadata": {},
   "outputs": [
    {
     "name": "stdout",
     "output_type": "stream",
     "text": [
      "Units Sold             float64\n",
      "Manufacturing Price    float64\n",
      "Sale Price             float64\n",
      "Gross Sales            float64\n",
      "Discounts              float64\n",
      "Sales                  float64\n",
      "COGS                   float64\n",
      "Profit                 float64\n",
      "dtype: object\n",
      "   Units Sold  Manufacturing Price  Sale Price  Gross Sales     Discounts  \\\n",
      "0      1618.5                  3.0        20.0      32370.0  14227.586198   \n",
      "1      1321.0                  3.0        20.0      26420.0  14227.586198   \n",
      "2      2178.0                  3.0        15.0      32670.0  14227.586198   \n",
      "3       888.0                  3.0        15.0      13320.0  14227.586198   \n",
      "4      2470.0                  3.0        15.0      37050.0  14227.586198   \n",
      "\n",
      "     Sales     COGS   Profit  \n",
      "0  32370.0  16185.0  16185.0  \n",
      "1  26420.0  13210.0  13210.0  \n",
      "2  32670.0  21780.0  10890.0  \n",
      "3  13320.0   8880.0   4440.0  \n",
      "4  37050.0  24700.0  12350.0  \n"
     ]
    }
   ],
   "source": [
    "# --- 1. list the columns we want to clean ---\n",
    "numeric_cols = [\n",
    "    \"Units Sold\",\n",
    "    \"Manufacturing Price\",\n",
    "    \"Sale Price\",\n",
    "    \"Gross Sales\",\n",
    "    \"Discounts\",\n",
    "    \"Sales\",\n",
    "    \"COGS\",\n",
    "    \"Profit\"\n",
    "]\n",
    "\n",
    "# --- 2. build a helper that converts a single string to float ---\n",
    "def to_number(val):\n",
    "    \"\"\"\n",
    "    Strip $, commas, spaces.  Convert '$-' or '-' to 0.\n",
    "    Return float or np.nan if conversion fails.\n",
    "    \"\"\"\n",
    "    if pd.isna(val):\n",
    "        return np.nan\n",
    "    # treat '$-' or '-' (possibly with spaces) as zero\n",
    "    if str(val).strip() in {\"$-\", \"-\"}:\n",
    "        return 0.0\n",
    "    # remove $ , and spaces\n",
    "    cleaned = (\n",
    "        str(val)\n",
    "        .replace(\"$\", \"\")\n",
    "        .replace(\",\", \"\")\n",
    "        .strip()\n",
    "    )\n",
    "    try:\n",
    "        return float(cleaned)\n",
    "    except ValueError:\n",
    "        return np.nan    # fallback: NaN if it still won’t parse\n",
    "\n",
    "# --- 3. apply it column-wise ---\n",
    "for col in numeric_cols:\n",
    "    df[col] = df[col].apply(to_number)\n",
    "\n",
    "# --- 4. quick sanity check ---\n",
    "print(df[numeric_cols].dtypes)   # should all be float64 now\n",
    "print(df[numeric_cols].head())\n"
   ]
  },
  {
   "cell_type": "code",
   "execution_count": null,
   "id": "24e9bc75-1fde-4cb7-9038-fec6d86c4014",
   "metadata": {},
   "outputs": [],
   "source": []
  },
  {
   "cell_type": "markdown",
   "id": "2a16de95-3832-48fe-bd3f-857f17025d28",
   "metadata": {},
   "source": [
    "**Clean and Parse the Date Column**"
   ]
  },
  {
   "cell_type": "code",
   "execution_count": 28,
   "id": "49f91835-f2ca-444d-b2d9-bf1172686655",
   "metadata": {},
   "outputs": [
    {
     "name": "stdout",
     "output_type": "stream",
     "text": [
      "        Date  year  month quarter\n",
      "0 2014-01-01  2014      1  2014Q1\n",
      "1 2014-01-01  2014      1  2014Q1\n",
      "2 2014-01-06  2014      1  2014Q1\n",
      "3 2014-01-06  2014      1  2014Q1\n",
      "4 2014-01-06  2014      1  2014Q1\n"
     ]
    }
   ],
   "source": [
    "# Step 2 – Clean and enrich date\n",
    "df['Date'] = pd.to_datetime(df['Date'], errors='coerce', dayfirst=False)\n",
    "\n",
    "# Drop rows where date parsing failed (very rare)\n",
    "df = df.dropna(subset=['Date'])\n",
    "\n",
    "# Create new time features\n",
    "df['year'] = df['Date'].dt.year\n",
    "df['month'] = df['Date'].dt.month\n",
    "df['quarter'] = df['Date'].dt.to_period(\"Q\").astype(str)\n",
    "\n",
    "# Optional: drop redundant columns\n",
    "df.drop(columns=['Month Number', 'Month Name', 'Year'], inplace=True, errors='ignore')\n",
    "\n",
    "# Confirm result\n",
    "print(df[['Date', 'year', 'month', 'quarter']].head())\n"
   ]
  },
  {
   "cell_type": "code",
   "execution_count": null,
   "id": "b8d1f251-d5fc-4076-8f88-245f159e4d44",
   "metadata": {},
   "outputs": [],
   "source": []
  },
  {
   "cell_type": "markdown",
   "id": "68181a20-5b86-476e-a67f-7935b93725f4",
   "metadata": {},
   "source": [
    "**Build the feature matrix**"
   ]
  },
  {
   "cell_type": "markdown",
   "id": "d1f19eb7-41f1-47db-9eae-a9aaeb9286d8",
   "metadata": {},
   "source": [
    "*A. Pick columns*"
   ]
  },
  {
   "cell_type": "code",
   "execution_count": 30,
   "id": "d91930de-e5b4-416e-a1ca-104b5cc224a6",
   "metadata": {},
   "outputs": [],
   "source": [
    "# Target\n",
    "target = \"COGS\"\n",
    "\n",
    "# Categorical features\n",
    "cat_cols = [\"Segment\", \"Country\", \"Product\", \"Discount Band\", \"quarter\"]\n",
    "\n",
    "# Numeric features\n",
    "num_cols = [\n",
    "    \"Units Sold\",\n",
    "    \"Manufacturing Price\",\n",
    "    \"Sale Price\",\n",
    "    \"Gross Sales\",\n",
    "    \"Discounts\",\n",
    "    \"Sales\",\n",
    "    \"Profit\",\n",
    "    \"year\",\n",
    "    \"month\"\n",
    "]\n",
    "\n",
    "# Assemble feature dataframe\n",
    "X = df[cat_cols + num_cols].copy()\n",
    "y = df[target].copy()\n"
   ]
  },
  {
   "cell_type": "markdown",
   "id": "e9465057-3ebe-4c57-8e0d-1eaeeccbc0f9",
   "metadata": {},
   "source": [
    " *B. One-hot encode the categoricals*"
   ]
  },
  {
   "cell_type": "code",
   "execution_count": 31,
   "id": "a3291220-be47-431b-a3b9-ef2f48750652",
   "metadata": {},
   "outputs": [
    {
     "name": "stdout",
     "output_type": "stream",
     "text": [
      "Feature matrix shape: (700, 26)\n"
     ]
    }
   ],
   "source": [
    "# one-hot with pandas; drop_first=True avoids dummy-variable trap\n",
    "X = pd.get_dummies(X, columns=cat_cols, drop_first=True)\n",
    "\n",
    "print(\"Feature matrix shape:\", X.shape)\n"
   ]
  },
  {
   "cell_type": "code",
   "execution_count": null,
   "id": "56844f34-398d-4724-84a6-a14afe75790a",
   "metadata": {},
   "outputs": [],
   "source": []
  },
  {
   "cell_type": "markdown",
   "id": "365ac0f4-6132-4ac4-a120-a7b0941628e9",
   "metadata": {},
   "source": [
    "*C. Train/test split (so we’re ready for modeling next)*"
   ]
  },
  {
   "cell_type": "code",
   "execution_count": 32,
   "id": "3a99c623-5c82-4f3b-9322-b7ca12b12d59",
   "metadata": {},
   "outputs": [
    {
     "name": "stdout",
     "output_type": "stream",
     "text": [
      "Train shape: (560, 26) Test shape: (140, 26)\n"
     ]
    }
   ],
   "source": [
    "from sklearn.model_selection import train_test_split\n",
    "\n",
    "X_train, X_test, y_train, y_test = train_test_split(\n",
    "    X, y, test_size=0.2, random_state=42\n",
    ")\n",
    "\n",
    "print(\"Train shape:\", X_train.shape, \"Test shape:\", X_test.shape)"
   ]
  },
  {
   "cell_type": "code",
   "execution_count": null,
   "id": "04cc34b4-d17d-4ac0-93ae-c4c3010f5af4",
   "metadata": {},
   "outputs": [],
   "source": []
  },
  {
   "cell_type": "markdown",
   "id": "c8fbc948-f4e3-4b45-8e31-5d991a623fad",
   "metadata": {},
   "source": [
    "**Step 4 – Baseline Model: Linear Regression**"
   ]
  },
  {
   "cell_type": "code",
   "execution_count": 33,
   "id": "67759fe9-f79d-4a14-ac2f-02c240ac6feb",
   "metadata": {},
   "outputs": [],
   "source": [
    "from sklearn.linear_model import LinearRegression\n",
    "from sklearn.metrics import mean_absolute_error, mean_squared_error, r2_score\n",
    "import numpy as np\n",
    "\n",
    "# Train the model\n",
    "lr = LinearRegression()\n",
    "lr.fit(X_train, y_train)\n",
    "\n",
    "# Predict on test set\n",
    "y_pred = lr.predict(X_test)\n"
   ]
  },
  {
   "cell_type": "markdown",
   "id": "0139d199-f086-4212-b786-c937e94c4e3c",
   "metadata": {},
   "source": [
    "*Evaluate The model*"
   ]
  },
  {
   "cell_type": "code",
   "execution_count": 34,
   "id": "24a02fea-417f-4de3-a96d-6488b7cd860a",
   "metadata": {},
   "outputs": [
    {
     "name": "stdout",
     "output_type": "stream",
     "text": [
      "Linear Regression Performance:\n",
      "MAE: 4,783.78\n",
      "RMSE: 7,296.37\n",
      "R² Score: 0.9989\n"
     ]
    }
   ],
   "source": [
    "# Evaluation metrics\n",
    "mae = mean_absolute_error(y_test, y_pred)\n",
    "rmse = np.sqrt(mean_squared_error(y_test, y_pred))\n",
    "r2 = r2_score(y_test, y_pred)\n",
    "\n",
    "print(f\"Linear Regression Performance:\")\n",
    "print(f\"MAE: {mae:,.2f}\")\n",
    "print(f\"RMSE: {rmse:,.2f}\")\n",
    "print(f\"R² Score: {r2:.4f}\")\n"
   ]
  },
  {
   "cell_type": "code",
   "execution_count": null,
   "id": "ff08b900-239c-49d9-b6d5-0f4893726c14",
   "metadata": {},
   "outputs": [],
   "source": []
  },
  {
   "cell_type": "markdown",
   "id": "72c48045-bee3-4fe7-a4d9-61bd8b2bf6ae",
   "metadata": {},
   "source": [
    "*Plot Predictions vs Actual*"
   ]
  },
  {
   "cell_type": "code",
   "execution_count": 35,
   "id": "cdd08753-5eef-4d03-82c9-6d135537e325",
   "metadata": {},
   "outputs": [
    {
     "data": {
      "image/png": "[encoded data removed]",
      "text/plain": [
       "<Figure size 600x600 with 1 Axes>"
      ]
     },
     "metadata": {},
     "output_type": "display_data"
    }
   ],
   "source": [
    "import matplotlib.pyplot as plt\n",
    "\n",
    "plt.figure(figsize=(6,6))\n",
    "plt.scatter(y_test, y_pred, alpha=0.6)\n",
    "plt.plot([y_test.min(), y_test.max()], [y_test.min(), y_test.max()], 'r--')\n",
    "plt.xlabel(\"Actual COGS\")\n",
    "plt.ylabel(\"Predicted COGS\")\n",
    "plt.title(\"Linear Regression – Predicted vs Actual\")\n",
    "plt.grid(True)\n",
    "plt.tight_layout()\n",
    "plt.show()\n"
   ]
  },
  {
   "cell_type": "code",
   "execution_count": null,
   "id": "b8480f33-d988-4f4a-ac75-a55a8c332e61",
   "metadata": {},
   "outputs": [],
   "source": []
  }
 ],
 "metadata": {
  "kernelspec": {
   "display_name": "Python 3 (ipykernel)",
   "language": "python",
   "name": "python3"
  },
  "language_info": {
   "codemirror_mode": {
    "name": "ipython",
    "version": 3
   },
   "file_extension": ".py",
   "mimetype": "text/x-python",
   "name": "python",
   "nbconvert_exporter": "python",
   "pygments_lexer": "ipython3",
   "version": "3.13.4"
  }
 },
 "nbformat": 4,
 "nbformat_minor": 5
}
